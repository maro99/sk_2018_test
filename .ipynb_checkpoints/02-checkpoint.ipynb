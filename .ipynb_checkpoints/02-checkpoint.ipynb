{
 "cells": [
  {
   "cell_type": "code",
   "execution_count": null,
   "metadata": {},
   "outputs": [],
   "source": [
    "\n",
    "A 케미컬은 어떤 도시에 공장 N개를 새로 지으려 합니다. 도시 지형은 이차원 평면으로 나타냅니다.\n",
    "\n",
    "공장을 지을 때는 건축법을 따라야 합니다. 건축법은 다음과 같습니다.\n",
    "\n",
    "이미 집이 있는 위치에는 공장을 지을 수 없습니다.\n",
    "공장과 집은 거리가 멀수록 좋습니다.\n",
    "한 위치에는 공장 하나만 지을 수 있습니다.\n",
    "두 지점 사이의 거리는 직선거리로 정의합니다.\n",
    "공장의 x, y 좌표 값은 각각 -100 이상 100 이하인 정수여야 합니다.\n",
    "공장 N개를 지었을 때 집과 공장 사이의 거리 중 가장 작은 값을 구하려 합니다. 단, 숫자가 딱 떨어지지 않을 수 있으니\n",
    "편의상 거리의 제곱을 구하겠습니다.\n",
    "\n",
    "지어야 하는 공장 수 N, 모든 집의 좌표를 담은 2차원 배열 house가 solution 함수의 매개변수로 주어집니다. \n",
    "공장 N개를 지었을 때, 집과 공장 사이의 거리 중 가장 작은 값의 제곱을 return 하도록 solution 함수를 완성해주세요.\n",
    "단, 공장을 지을 수 없다면 -1을 return 해주세요.\n",
    "\n",
    "제한사항\n",
    "N은 1 이상 100 이하인 자연수입니다.\n",
    "house는 가로 길이가 2, 세로 길이는 1 이상 100 이하인 2차원 배열입니다.\n",
    "house 원소는 [집의 x 좌표, 집의 y 좌표] 형식을 따릅니다.\n",
    "집의 x, y 좌표는 -100 이상 100 이하인 정수입니다.\n",
    "입출력 예\n",
    "N\thouse\tresult\n",
    "1\t[[0,0]]\t20000\n",
    "3\t[[0,0],[1,0]]\t19801\n",
    "입출력 예 설명\n",
    "입출력 예 #1\n",
    "\n",
    "(0, 0) 위치에 집이 있고, 공장 한 채를 지어야 합니다. (100, 100) 에 공장을 지으면 집과 공장의 거리가 가장 멉니다.1 \n",
    "따라서 집과 공장 사이의 거리 중 가장 작은 값의 제곱은 1002 + 1002 = 20,000이 됩니다.\n",
    "\n",
    "입출력 예 #2\n",
    "\n",
    "image\n",
    "\n",
    "그림에서 초록색 선은 공장을 지을 수 있는 범위를, 파란 점은 집의 위치를 나타냅니다. (0,0)과 (1,0)에 집이 있으므로 우선 3개의 공장 중 2개는\n",
    "(-100,100)과 (-100,-100)에2 짓습니다. 세 번째 공장은 빨간 점선으로 된 점 중 아무 데나 짓습니다. 이때, 집과 공장 사이의 거리 중 가장 \n",
    "작은 값의 제곱은 1002 + 992 = 19801입니다3.\n",
    "\n",
    "물론 (-100, -100), (-100, 100), (100, -100) 에 공장을 지어도 됩니다. ↩\n",
    "\n",
    "그림에서 빨간색으로 칠해진 점입니다. ↩\n",
    "\n",
    "거리의 제곱이 19801보다 커지도록 공장 3개를 짓는 방법은 없습니다. ↩\n",
    "\n",
    "\n",
    "https://res.cloudinary.com/sgc109/image/upload/c_scale,w_500/v1517279264/%EC%BA%A1%EC%B2%98_nqxcjv.png"
   ]
  },
  {
   "cell_type": "code",
   "execution_count": null,
   "metadata": {},
   "outputs": [],
   "source": [
    "공장 N개를 지었을 때 집과 공장 사이의 거리 중 가장 작은 값을 구하려 합니다. "
   ]
  },
  {
   "cell_type": "code",
   "execution_count": null,
   "metadata": {},
   "outputs": [],
   "source": []
  },
  {
   "cell_type": "code",
   "execution_count": 56,
   "metadata": {},
   "outputs": [],
   "source": [
    "def solution(N, house):\n",
    "    \n",
    "    \n",
    "    \n",
    "#step 1\n",
    "\n",
    "#     # 일단 최대점 하나만 구해보자. \n",
    "#     max_value = 0 \n",
    "#     max_value_solo = 20000\n",
    "#     factory_coordinate_list = [] # 공장 위치 저장 할 곳. \n",
    "    \n",
    "#     for x in range(-100,101):\n",
    "#         for y in range(-100,101):\n",
    "            \n",
    "#             distance =0\n",
    "#             for home in house:\n",
    "#                 dx,dy = home[0]-x, home[1]-y\n",
    "#                 distance_diff =  dx*dx +dy*dy\n",
    "#                 distance = distance + distance_diff\n",
    "\n",
    "\n",
    "#             if distance >= max_value:\n",
    "#                 max_value = distance\n",
    "\n",
    "                \n",
    "                \n",
    "\n",
    "        \n",
    "# step 2\n",
    "\n",
    "    # 공장이 여러개 이고 중복된 위치에 못 두는 것을 염두해 보자. \n",
    "    # 어떻게 여러번 큰값을 체크할 것인가?\n",
    "    \n",
    "#     max_value = 0 \n",
    "#     max_value_list = [0]*N\n",
    "#     factory_coordinate_list = [0]*N # 공장 위치 저장 할 곳. \n",
    "    \n",
    "    \n",
    "#     for x in range(-100,101):\n",
    "#         for y in range(-100,101):\n",
    "            \n",
    "#             distance =0\n",
    "#             # 집들을 모두 돌면서  해당 좌표와의 거리들의 합을 구한다. \n",
    "#             for home in house:\n",
    "#                 dx,dy = home[0]-x, home[1]-y\n",
    "#                 distance_diff =  dx*dx +dy*dy\n",
    "#                 distance = distance + distance_diff\n",
    "                \n",
    "            \n",
    "#             min_value = 0\n",
    "#             min_value_index = 0\n",
    "#             for index,value in enumerate(max_value_list):\n",
    "#                 if min_value >= value:\n",
    "#                     min_value = value\n",
    "#                     min_value_index = index\n",
    "            \n",
    "#             if distance >=min_value:\n",
    "#                 max_value_list[min_value_index] = distance\n",
    "#                 factory_coordinate_list[min_value_index] = (x,y)\n",
    "                \n",
    "                \n",
    "\n",
    "#step 3\n",
    "\n",
    "# 집 좌표, 공장좌표 의 중복을 없에보자.\n",
    "\n",
    "    # 집 좌표 현제 리스트의 리스트로 되있는데 튜플의 리스트로 바꿔보자.\n",
    "    \n",
    "    house_tuple_list = []\n",
    "    for lista in house:\n",
    "        house_tuple_list.append((lista[0],lista[1]))\n",
    "    \n",
    "\n",
    "\n",
    "\n",
    "    max_value = 0 \n",
    "    max_value_list = [0]*N\n",
    "    factory_coordinate_list = [0]*N # 공장 위치 저장 할 곳. \n",
    "    \n",
    "\n",
    "\n",
    "\n",
    "    for x in range(-100,101):\n",
    "        for y in range(-100,101):\n",
    "            \n",
    "            if ((x,y) not in factory_coordinate_list) and ((x,y)not in house_tuple_list):\n",
    "\n",
    "                distance =0\n",
    "                # 집들을 모두 돌면서  해당 좌표와의 거리들의 합을 구한다. \n",
    "                for home in house:\n",
    "                    dx,dy = home[0]-x, home[1]-y\n",
    "                    distance_diff =  dx*dx +dy*dy\n",
    "                    distance = distance + distance_diff\n",
    "\n",
    "\n",
    "                min_value = 0\n",
    "                min_value_index = 0\n",
    "                for index,value in enumerate(max_value_list):\n",
    "                    if min_value >= value:\n",
    "                        min_value = value\n",
    "                        min_value_index = index\n",
    "\n",
    "                if distance >=min_value:\n",
    "                    max_value_list[min_value_index] = distance\n",
    "                    factory_coordinate_list[min_value_index] = (x,y)\n",
    "                    \n",
    "                    \n",
    "    \n",
    "    # 구한 공장 좌표 ~ 집까지 의 거리들만을 한번더 여기서 계산해 본후 그중 가장 작은값 내놓자.\n",
    "    \n",
    "    result_min_value = 40000 # 결과적으로 반환할, 집~ 공장 좌표중 작은값.\n",
    "    \n",
    "    for x_h, y_h in house_tuple_list:\n",
    "        for x_f, y_f in factory_coordinate_list:\n",
    "            \n",
    "            dx = x_h - x_f\n",
    "            dy = y_h - y_f\n",
    "            \n",
    "            distance = dx*dx + dy*dy\n",
    "            \n",
    "            if distance <result_min_value:\n",
    "                result_min_value = distance\n",
    "\n",
    "    \n",
    "    \n",
    "#     return (max_value_list,factory_coordinate_list)\n",
    "    return result_min_value"
   ]
  },
  {
   "cell_type": "code",
   "execution_count": 57,
   "metadata": {},
   "outputs": [
    {
     "data": {
      "text/plain": [
       "19801"
      ]
     },
     "execution_count": 57,
     "metadata": {},
     "output_type": "execute_result"
    }
   ],
   "source": [
    "N = 3  # 1~100\n",
    "house = [[0, 0], [1, 0]]  # -100~100\n",
    "solution(N,house)\n",
    "\n",
    "# 기댓값 〉\t19801"
   ]
  },
  {
   "cell_type": "code",
   "execution_count": null,
   "metadata": {},
   "outputs": [],
   "source": []
  },
  {
   "cell_type": "code",
   "execution_count": 4,
   "metadata": {},
   "outputs": [],
   "source": [
    "house = [[0, 0], [1, 0]]"
   ]
  },
  {
   "cell_type": "code",
   "execution_count": null,
   "metadata": {},
   "outputs": [],
   "source": []
  },
  {
   "cell_type": "code",
   "execution_count": null,
   "metadata": {},
   "outputs": [],
   "source": []
  },
  {
   "cell_type": "code",
   "execution_count": 16,
   "metadata": {},
   "outputs": [],
   "source": [
    "max_value_list = [1,2,3]"
   ]
  },
  {
   "cell_type": "code",
   "execution_count": 19,
   "metadata": {},
   "outputs": [
    {
     "data": {
      "text/plain": [
       "1"
      ]
     },
     "execution_count": 19,
     "metadata": {},
     "output_type": "execute_result"
    }
   ],
   "source": [
    "min(max_value_list)"
   ]
  },
  {
   "cell_type": "code",
   "execution_count": null,
   "metadata": {},
   "outputs": [],
   "source": []
  }
 ],
 "metadata": {
  "kernelspec": {
   "display_name": "Python 3",
   "language": "python",
   "name": "python3"
  },
  "language_info": {
   "codemirror_mode": {
    "name": "ipython",
    "version": 3
   },
   "file_extension": ".py",
   "mimetype": "text/x-python",
   "name": "python",
   "nbconvert_exporter": "python",
   "pygments_lexer": "ipython3",
   "version": "3.6.5"
  }
 },
 "nbformat": 4,
 "nbformat_minor": 2
}
