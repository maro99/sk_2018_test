{
 "cells": [
  {
   "cell_type": "code",
   "execution_count": null,
   "metadata": {},
   "outputs": [],
   "source": [
    "교통카드\n",
    "10점\n",
    "  문제의 입력값은 각 언어의 표준입력(stdin) 함수를, 출력값은 표준출력(stdout) 함수를 사용해주세요.\n",
    "청소년 교통카드\n",
    "최초 잔액이 20,000원인 청소년 교통카드가 있다.\n",
    "\n",
    "이 카드는 사용할 때마다 운임만큼 차감되는데, 운임은 이동한 거리에 따라 결정된다.\n",
    "\n",
    "기본운임\n",
    "\n",
    "40km까지 : 720원\n",
    "추가 운임\n",
    "\n",
    "41km부터 : 8km마다 80원 추가\n",
    "(예: 48km까지 800원, 56km까지 880원)\n",
    "각각의 이동 거리를 입력하면 카드의 최종 잔액을 출력하는 프로그램을 작성하시오.\n",
    "\n",
    "유의사항\n",
    "최소 이동거리는 4km이며 최대 이동거리는 178km이다. 이를 벗어나면 현재 잔액을 출력하고 프로그램을 종료한다.\n",
    "더 이상 차감할 수 없으면 이동할 수 없으므로 현재 잔액을 출력하고 프로그램을 종료한다.\n",
    "입력형식\n",
    "각 이동거리가 띄어쓰기로 구분되어 입력된다. 예를 들어 8km를 이동한 후 다시 30km를 이동했다면 8 30이다.\n",
    "출력 형식\n",
    "카드에 남은 잔액을 출력한다.\n",
    "\n",
    "입/출력 예시\n",
    "⋇ 입출력 형식을 잘 지켜주세요.\n",
    "␣ : 공백\n",
    "↵ : 줄바꿈\n",
    "−⇥ : 탭\n",
    "보기 입력 1\n",
    "11 128 15 111 59 31 70 102 50 172 88 56 40 41 12\n",
    "출력 1\n",
    "4160\n"
   ]
  },
  {
   "cell_type": "code",
   "execution_count": null,
   "metadata": {},
   "outputs": [],
   "source": []
  },
  {
   "cell_type": "code",
   "execution_count": null,
   "metadata": {},
   "outputs": [],
   "source": []
  },
  {
   "cell_type": "code",
   "execution_count": null,
   "metadata": {},
   "outputs": [],
   "source": []
  },
  {
   "cell_type": "code",
   "execution_count": null,
   "metadata": {},
   "outputs": [],
   "source": []
  },
  {
   "cell_type": "code",
   "execution_count": 7,
   "metadata": {},
   "outputs": [
    {
     "ename": "ValueError",
     "evalue": "invalid literal for int() with base 10: ''",
     "output_type": "error",
     "traceback": [
      "\u001b[0;31m---------------------------------------------------------------------------\u001b[0m",
      "\u001b[0;31mValueError\u001b[0m                                Traceback (most recent call last)",
      "\u001b[0;32m<ipython-input-7-805016580418>\u001b[0m in \u001b[0;36m<module>\u001b[0;34m()\u001b[0m\n\u001b[1;32m      8\u001b[0m     \u001b[0;32mfor\u001b[0m \u001b[0mtoken\u001b[0m \u001b[0;32min\u001b[0m \u001b[0msplit\u001b[0m\u001b[0;34m:\u001b[0m\u001b[0;34m\u001b[0m\u001b[0m\n\u001b[1;32m      9\u001b[0m \u001b[0;34m\u001b[0m\u001b[0m\n\u001b[0;32m---> 10\u001b[0;31m         \u001b[0mdistance\u001b[0m \u001b[0;34m=\u001b[0m \u001b[0mint\u001b[0m\u001b[0;34m(\u001b[0m\u001b[0mtoken\u001b[0m\u001b[0;34m)\u001b[0m\u001b[0;34m\u001b[0m\u001b[0m\n\u001b[0m\u001b[1;32m     11\u001b[0m         \u001b[0;31m# @todo Write your code here.\u001b[0m\u001b[0;34m\u001b[0m\u001b[0;34m\u001b[0m\u001b[0m\n\u001b[1;32m     12\u001b[0m     \u001b[0;31m# @todo Write your code here.\u001b[0m\u001b[0;34m\u001b[0m\u001b[0;34m\u001b[0m\u001b[0m\n",
      "\u001b[0;31mValueError\u001b[0m: invalid literal for int() with base 10: ''"
     ]
    }
   ],
   "source": [
    "#!/usr/bin/env python\n",
    "# -*- coding: utf-8 -*-\n",
    "\n",
    "import sys\n",
    "\n",
    "if __name__ == '__main__':\n",
    "    split = sys.stdin.readline().strip().split(' ')\n",
    "    for token in split:\n",
    "        \n",
    "        distance = int(token)\n",
    "        # @todo Write your code here.\n",
    "    # @todo Write your code here."
   ]
  },
  {
   "cell_type": "code",
   "execution_count": null,
   "metadata": {},
   "outputs": [],
   "source": []
  },
  {
   "cell_type": "code",
   "execution_count": 8,
   "metadata": {},
   "outputs": [
    {
     "data": {
      "text/plain": [
       "18"
      ]
     },
     "execution_count": 8,
     "metadata": {},
     "output_type": "execute_result"
    }
   ],
   "source": [
    "148//8"
   ]
  },
  {
   "cell_type": "code",
   "execution_count": 9,
   "metadata": {},
   "outputs": [],
   "source": [
    "split = [11, 128, 15, 111, 59 ,31 ,70, 102, 50, 172, 88 ,56 ,40 ,41, 12]"
   ]
  },
  {
   "cell_type": "code",
   "execution_count": 44,
   "metadata": {},
   "outputs": [
    {
     "name": "stdout",
     "output_type": "stream",
     "text": [
      "11 : 720 \n",
      "128 : 2320 \n",
      "15 : 3040 \n",
      "111 : 4480 \n",
      "59 : 5440 \n",
      "31 : 6160 \n",
      "70 : 7200 \n",
      "102 : 8560 \n",
      "50 : 9440 \n",
      "172 : 11520 \n",
      "88 : 12720 \n",
      "56 : 13600 \n",
      "40 : 14320 \n",
      "41 : 15120 \n",
      "12 : 15840 \n",
      "4160\n"
     ]
    }
   ],
   "source": [
    "import math\n",
    "\n"
   ]
  },
  {
   "cell_type": "code",
   "execution_count": 38,
   "metadata": {},
   "outputs": [
    {
     "data": {
      "text/plain": [
       "2000"
      ]
     },
     "execution_count": 38,
     "metadata": {},
     "output_type": "execute_result"
    }
   ],
   "source": [
    "(172-40)//8 *80 +720"
   ]
  },
  {
   "cell_type": "code",
   "execution_count": 40,
   "metadata": {},
   "outputs": [
    {
     "data": {
      "text/plain": [
       "12"
      ]
     },
     "execution_count": 40,
     "metadata": {},
     "output_type": "execute_result"
    }
   ],
   "source": [
    "import math\n",
    "math.ceil(89/8)"
   ]
  },
  {
   "cell_type": "code",
   "execution_count": 41,
   "metadata": {},
   "outputs": [
    {
     "data": {
      "text/plain": [
       "880"
      ]
     },
     "execution_count": 41,
     "metadata": {},
     "output_type": "execute_result"
    }
   ],
   "source": [
    "160+720"
   ]
  },
  {
   "cell_type": "code",
   "execution_count": 23,
   "metadata": {},
   "outputs": [
    {
     "data": {
      "text/plain": [
       "11"
      ]
     },
     "execution_count": 23,
     "metadata": {},
     "output_type": "execute_result"
    }
   ],
   "source": [
    "88//8"
   ]
  },
  {
   "cell_type": "code",
   "execution_count": 24,
   "metadata": {},
   "outputs": [
    {
     "data": {
      "text/plain": [
       "880"
      ]
     },
     "execution_count": 24,
     "metadata": {},
     "output_type": "execute_result"
    }
   ],
   "source": [
    "11*80"
   ]
  },
  {
   "cell_type": "code",
   "execution_count": 27,
   "metadata": {},
   "outputs": [
    {
     "data": {
      "text/plain": [
       "560"
      ]
     },
     "execution_count": 27,
     "metadata": {},
     "output_type": "execute_result"
    }
   ],
   "source": [
    "4720 - 4160"
   ]
  },
  {
   "cell_type": "code",
   "execution_count": 28,
   "metadata": {},
   "outputs": [
    {
     "data": {
      "text/plain": [
       "7.0"
      ]
     },
     "execution_count": 28,
     "metadata": {},
     "output_type": "execute_result"
    }
   ],
   "source": [
    "560/80"
   ]
  },
  {
   "cell_type": "code",
   "execution_count": null,
   "metadata": {},
   "outputs": [],
   "source": []
  },
  {
   "cell_type": "code",
   "execution_count": null,
   "metadata": {},
   "outputs": [],
   "source": [
    "#!/usr/bin/env python\n",
    "# -*- coding: utf-8 -*-\n",
    "\n",
    "import sys\n",
    "import math\n",
    "\n",
    "if __name__ == '__main__':\n",
    "    split = sys.stdin.readline().strip().split(' ')\n",
    "\n",
    "        \n",
    "    result = 20000\n",
    "    output = 0\n",
    "\n",
    "    for token in split:\n",
    "        distance = int(token)\n",
    "    \n",
    "        if distance<4:\n",
    "            # output = output + 720\n",
    "            # print(output)\n",
    "            break\n",
    "\n",
    "        elif distance > 178:\n",
    "            # output = output + 720 + (178-40)//8*80\n",
    "            # print(output)\n",
    "            break\n",
    "\n",
    "        elif distance >40 :\n",
    "            output_pre = output\n",
    "            output = output + 720 +math.ceil((distance-40)/8)*80\n",
    "            \n",
    "            if result - output < 0:\n",
    "                output = output_pre\n",
    "                break\n",
    "\n",
    "        elif distance <=40 :\n",
    "            output_pre = output\n",
    "            output = output + 720\n",
    "            \n",
    "            if result - output < 0:\n",
    "                output = output_pre\n",
    "                break\n",
    "    \n",
    "        \n",
    "    \n",
    "\n",
    "\n",
    "    result = result - output\n",
    "    print(result)\n",
    "        # @todo Write your code here.\n",
    "    # @todo Write your code here."
   ]
  }
 ],
 "metadata": {
  "kernelspec": {
   "display_name": "Python 3",
   "language": "python",
   "name": "python3"
  },
  "language_info": {
   "codemirror_mode": {
    "name": "ipython",
    "version": 3
   },
   "file_extension": ".py",
   "mimetype": "text/x-python",
   "name": "python",
   "nbconvert_exporter": "python",
   "pygments_lexer": "ipython3",
   "version": "3.6.5"
  }
 },
 "nbformat": 4,
 "nbformat_minor": 2
}
