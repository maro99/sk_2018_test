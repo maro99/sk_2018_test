{
 "cells": [
  {
   "cell_type": "code",
   "execution_count": 1,
   "metadata": {},
   "outputs": [
    {
     "ename": "SyntaxError",
     "evalue": "invalid syntax (<ipython-input-1-f8410079d262>, line 1)",
     "output_type": "error",
     "traceback": [
      "\u001b[0;36m  File \u001b[0;32m\"<ipython-input-1-f8410079d262>\"\u001b[0;36m, line \u001b[0;32m1\u001b[0m\n\u001b[0;31m    XX 게임의 유저들이 보스 몬스터를 사냥하려고 팀을 만들었습니다. 그리고 팀에 속한 캐릭터에 아이템을 사용해 공격력을 높이려 합니다.\u001b[0m\n\u001b[0m         ^\u001b[0m\n\u001b[0;31mSyntaxError\u001b[0m\u001b[0;31m:\u001b[0m invalid syntax\n"
     ]
    }
   ],
   "source": [
    "XX 게임의 유저들이 보스 몬스터를 사냥하려고 팀을 만들었습니다. 그리고 팀에 속한 캐릭터에 아이템을 사용해 공격력을 높이려 합니다.\n",
    "\n",
    "이 게임의 아이템은 캐릭터의 공격력은 높이고 체력을 낮춥니다. 그래서 아이템을 적절히 사용해 팀의 공격력을 최대한 끌어올리려 합니다. 캐릭터별로 아이템을 사용할지 말지는 자유지만, 아이템을 사용한 캐릭터는 체력이 반드시 100 이상 남아야 합니다. 또, 한 캐릭터에 아이템 하나씩만 사용할 수 있으며, 사용한 아이템은 사라집니다.\n",
    "\n",
    "예를 들어 캐릭터의 체력이 [200, 120, 150]이고 아이템의 효과는 다음과 같습니다.\n",
    "\n",
    "높여줄 공격치\t낮추는 체력\n",
    "30\t100\n",
    "500\t30\n",
    "100\t400\n",
    "이때 팀의 공격력을 최대로 올리려면 첫 번째 캐릭터에 첫 번째 아이템을, 세 번째 캐릭터에 두 번째 아이템을 사용하면 됩니다.\n",
    "\n",
    "캐릭터들의 체력을 담은 배열 healths와 아이템별 효과를 담은 이차원 배열 items가 solution 함수의 매개변수로 주어질 때,\n",
    "팀의 공격력을 최고로 끌어올리려면 어떤 아이템을 사용해야 하는지 return 하도록 solution 함수를 완성해주세요.\n",
    "\n",
    "제한 조건\n",
    "healths의 길이는 1 이상 10,000 이하입니다.\n",
    "healths의 원소(캐릭터의 체력)는 1 이상 1,000,000 이하인 자연수입니다.\n",
    "items의 길이는 1 이상 5,000 이하입니다.\n",
    "items에는 아이템이 [올려줄 공격력, 낮출 체력]이 번호 순서대로 들어있습니다.\n",
    "아이템 번호는 1번 부터 시작합니다.\n",
    "items[i]에는 i + 1번 아이템이 [올려줄 공격력, 낮출 체력]이 들어있습니다.\n",
    "아이템이 올리는 공격력은 1 이상 500,000 이하인 자연수입니다.\n",
    "아이템이 내리는 체력은 1 이상 500,000 이하인 자연수입니다.\n",
    "아이템 번호는 오름차순으로 정렬해 return 해주세요.\n",
    "올려주는 공격력이 같은 아이템은 없습니다.\n",
    "아이템을 사용하는 방법이 여러 가지라면, 그러한 방법 중 아무거나 하나를 return 해주세요. 단, 아이템 번호는 오름차순으로 정렬되어 있어야 합니다.\n",
    "입출력 예\n",
    "healths\titems\treturn\n",
    "[200,120,150]\t[[30,100],[500,30],[100,400]]\t[1,2]\n",
    "[300,200,500]\t[[1000, 600], [400, 500], [300, 100]]\t[3]\n",
    "입출력 예 #1\n",
    "문제의 예시와 같습니다.\n",
    "\n",
    "입출력 예 #2\n",
    "\n",
    "첫 번째, 두 번째 아이템을 사용하면 캐릭터의 체력이 100 이하가 됩니다. 따라서 세 번째 아이템만 사용할 수 있습니다."
   ]
  },
  {
   "cell_type": "code",
   "execution_count": null,
   "metadata": {},
   "outputs": [],
   "source": [
    "팀의 공격력을 최고로 끌어올리려면 어떤 아이템을 사용해야 하는지 return 하도록"
   ]
  },
  {
   "cell_type": "code",
   "execution_count": 191,
   "metadata": {},
   "outputs": [],
   "source": [
    "\n",
    "\n",
    "\n",
    "#  받은 healths, items리스트에 대해서 가능한 경우의 수 짝을 담은 tuple을 만들고 싶다.\n",
    "#  healths, items 에 대해서 길에이 맞게 [0,1,2,3,4] 인덱스를 할당해서 짝을 맞춰보자. \n",
    "\n",
    "result = []\n",
    "import copy\n",
    "\n",
    "def pick(healths, items,picked,result):    \n",
    "    # 종료 조건.\n",
    "    len_h = len(healths)\n",
    "    len_i = len(items)\n",
    "\n",
    "    \n",
    "    if  len_i== 0 or len_h== 0:\n",
    "#         print(picked)\n",
    "        # 깊은 복사를 안하면 뒤에서 pop할때 result에 저장한 picked가 모두 사라진다. \n",
    "        picked_copy = copy.deepcopy(picked)\n",
    "        result.append(picked_copy)\n",
    "        return\n",
    "    \n",
    "    \n",
    "    for i in range(0,len_i):\n",
    "        for h in range(0,len_h):\n",
    "            \n",
    "            picked.append([healths[h],items[i]])\n",
    "            \n",
    "            # 해당 i,h번째 원소를 재외하고 pick함수를 재귀 호출.\n",
    "            healths_after = healths[:h]  + healths[h+1:]\n",
    "            items_after = items[:i] + items[i+1:]\n",
    "            pick(healths_after, items_after,picked,result)\n",
    "\n",
    "            picked.pop()\n",
    "\n",
    "\n",
    "\n",
    "\n",
    "def solution(healths, items):\n",
    "    \n",
    "    \n",
    "    #사람 x 아이템 의 인덱스를 짝지은 튜플 리스트를 먼저\n",
    "\n",
    "    \n",
    "    global result \n",
    "    result = []\n",
    "    picked = []\n",
    "    \n",
    "    healths_index_list=[]\n",
    "    items_index_list=[]\n",
    "    \n",
    "    # 받은 두개의 리스트에 대해서 index크기만큼의 리스트를 미리 만들고 \n",
    "    # 짝을 맞춰서 가능한 경우의 수 tuple의 list를 먼저 만들어 보겠다. \n",
    "    \n",
    "    for index,item in enumerate(healths):\n",
    "        healths_index_list.append(index)\n",
    "    for index,item in enumerate(items):\n",
    "        items_index_list.append(index)\n",
    "        \n",
    "\n",
    "    pick(healths_index_list,items_index_list,picked,result)\n",
    "    \n",
    "    #result 내부의 중복을 어떻게 제거할 것인가? \n",
    "    result_sorted = []\n",
    "\n",
    "    # 먼저 리스트를 안의 세부 리스트를 sort해야 하는데. 두 값을 비교해서 해야한다.\n",
    "    for sub_list in result:\n",
    "\n",
    "        sub_list.sort()\n",
    "        if sub_list not in result_sorted:\n",
    "            result_sorted.append(sub_list)\n",
    "\n",
    "    \n",
    "    # 경우의 수들을 돌면서 아이템이 사용할 수 있는 경우 각 경우의 데미지를 각각 보여줘 보자. \n",
    "    item_index_list_output =[]     # 최종적으로 보여줄 최적의 공격력 올려주는 아이템 리스트.\n",
    "    damage_sum_max = 0\n",
    "    for case in result_sorted: # case = [[0, 0], [1, 1], [2, 2]]\n",
    "        \n",
    "        damage_sum = 0\n",
    "        item_index_list =[] # 사용한 아이템 인덱스 이곳에 저장.\n",
    "        \n",
    "        for item in case: # case = [[0, 0], [1, 1], [2, 2]],  item = [0, 0]\n",
    "            health_index, items_index = item[0],item[1] \n",
    "            # 물약에 의해 hp 가 100 초과 인 경우\n",
    "            if healths[health_index] - items[items_index][1]>=100:\n",
    "                damage_sum += items[items_index][0]\n",
    "                item_index_list.append(items_index)\n",
    "        \n",
    "        # 아이템 한번도 안쓰는 경우를 제외하고\n",
    "        # 최대 대미지 보다 크다면 그 값을 최대 데미지로 정하고 \n",
    "        # 사용한 item index를 저장한다.\n",
    "        if damage_sum_max<=damage_sum and damage_sum !=0 :\n",
    "            damage_sum_max = damage_sum\n",
    "            item_index_list_output= copy.deepcopy(item_index_list)     \n",
    "\n",
    "            \n",
    "    \n",
    "    # 결과로 돌려줄 것 내림 차순으로 sort 해주고 1씩 더해 놓자.\n",
    "    item_index_list_output.sort()\n",
    "    for index, value in enumerate(item_index_list_output):\n",
    "        item_index_list_output[index] = item_index_list_output[index]+1\n",
    "    \n",
    "    \n",
    "\n",
    "\n",
    "    return item_index_list_output"
   ]
  },
  {
   "cell_type": "code",
   "execution_count": null,
   "metadata": {},
   "outputs": [],
   "source": []
  },
  {
   "cell_type": "code",
   "execution_count": 192,
   "metadata": {},
   "outputs": [
    {
     "data": {
      "text/plain": [
       "[1, 2]"
      ]
     },
     "execution_count": 192,
     "metadata": {},
     "output_type": "execute_result"
    }
   ],
   "source": [
    "healths = [200,120,150]                      # [0,1,2]\n",
    "items = [[30,100],[500,30],[100,400]]        # [0,1,2] # 공,체 \n",
    "\n",
    "out_put =solution(healths, items)\n",
    "\n",
    "\n",
    "\n",
    "\n",
    "\n",
    "# [1,2]\n",
    "out_put"
   ]
  },
  {
   "cell_type": "code",
   "execution_count": 193,
   "metadata": {},
   "outputs": [
    {
     "data": {
      "text/plain": [
       "[3]"
      ]
     },
     "execution_count": 193,
     "metadata": {},
     "output_type": "execute_result"
    }
   ],
   "source": [
    "healths = [300,200,500]\n",
    "items = [[1000, 600], [400, 500], [300, 100]]\n",
    "\n",
    "\n",
    "out_put = solution(healths, items)\n",
    "\n",
    "\n",
    "# [3]\n",
    "out_put"
   ]
  },
  {
   "cell_type": "code",
   "execution_count": null,
   "metadata": {},
   "outputs": [],
   "source": []
  },
  {
   "cell_type": "code",
   "execution_count": null,
   "metadata": {},
   "outputs": [],
   "source": []
  },
  {
   "cell_type": "code",
   "execution_count": null,
   "metadata": {},
   "outputs": [],
   "source": []
  },
  {
   "cell_type": "code",
   "execution_count": null,
   "metadata": {},
   "outputs": [],
   "source": []
  },
  {
   "cell_type": "code",
   "execution_count": null,
   "metadata": {},
   "outputs": [],
   "source": [
    "### 나는 경우의 수 list를 만들때 중복이 생겼었는데 \n",
    "#이 중복을 없에고 만들 수 있는 방법이 있을까? "
   ]
  },
  {
   "cell_type": "code",
   "execution_count": null,
   "metadata": {},
   "outputs": [],
   "source": []
  }
 ],
 "metadata": {
  "kernelspec": {
   "display_name": "Python 3",
   "language": "python",
   "name": "python3"
  },
  "language_info": {
   "codemirror_mode": {
    "name": "ipython",
    "version": 3
   },
   "file_extension": ".py",
   "mimetype": "text/x-python",
   "name": "python",
   "nbconvert_exporter": "python",
   "pygments_lexer": "ipython3",
   "version": "3.6.5"
  }
 },
 "nbformat": 4,
 "nbformat_minor": 2
}
