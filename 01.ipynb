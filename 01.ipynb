{
 "cells": [
  {
   "cell_type": "code",
   "execution_count": 7,
   "metadata": {},
   "outputs": [
    {
     "ename": "SyntaxError",
     "evalue": "invalid syntax (<ipython-input-7-36943e81f067>, line 1)",
     "output_type": "error",
     "traceback": [
      "\u001b[0;36m  File \u001b[0;32m\"<ipython-input-7-36943e81f067>\"\u001b[0;36m, line \u001b[0;32m1\u001b[0m\n\u001b[0;31m    최대한 많은 세미나 참가자에게 티셔츠를 나눠주려 합니다. 티셔츠를 나눠주는 조건은 다음과\u001b[0m\n\u001b[0m         ^\u001b[0m\n\u001b[0;31mSyntaxError\u001b[0m\u001b[0;31m:\u001b[0m invalid syntax\n"
     ]
    }
   ],
   "source": [
    "최대한 많은 세미나 참가자에게 티셔츠를 나눠주려 합니다. 티셔츠를 나눠주는 조건은 다음과 \n",
    "같습니다.\n",
    "\n",
    "한 사람당 티셔츠를 최대 하나씩 줍니다.\n",
    "모든 참가자는 자신의 상의 크기와 같거나 큰 티셔츠를 받습니다.\n",
    "예를 들어 크기가 [1, 2, 3] 인 티셔츠가 있고, 각각 상의 크기가 [2, 3, 4]인 참가자 \n",
    "셋이 있습니다. 첫 번째 사람에게 두 번째 티셔츠를, 두 번째 사람에게 세 번째 티셔츠를 \n",
    "나눠줄 수 있습니다. 크기가 4인 참가자는 티셔츠를 받지 못합니다. 따라서 최대 2명에게 \n",
    "티셔츠를 줄 수 있습니다.\n",
    "\n",
    "참가자별 상의 크기 people과 세미나 주최 측이 가진 티셔츠 크기 tshirts가 매개변수로\n",
    "주어질 때, 최대 몇 명에게 티셔츠를 나눠 줄 수 있는지 return 하도록 solution 함수를\n",
    "작성하세요.\n",
    "\n",
    "제한 사항\n",
    "세미나에 참가한 사람 수는 2명 이상 5,000명 이하입니다.\n",
    "주최 측은 티셔츠를 2벌 이상 5,000벌 이하로 준비했습니다.\n",
    "참가자의 상의 크기와 준비한 티셔츠 크기는 1 이상 1,000 이하인 정수입니다.\n",
    "입출력 예시\n",
    "people\ttshirts\tresult\n",
    "[2, 3]\t[1, 2, 3]\t2\n",
    "[1, 2, 3]\t[1, 1]\t1\n",
    "입출력 예시 설명\n",
    "입출력 예 #1\n",
    "첫 번째 사람에게 두 번째 티셔츠를, 두 번째 사람에게 세 번째 티셔츠를 주면 최대 2명에게\n",
    "티셔츠를 줄 수 있습니다.\n",
    "\n",
    "입출력 예 #2\n",
    "\n",
    "첫 번째 사람에게만 티셔츠를 줄 수 있습니다."
   ]
  },
  {
   "cell_type": "code",
   "execution_count": null,
   "metadata": {},
   "outputs": [],
   "source": []
  },
  {
   "cell_type": "code",
   "execution_count": null,
   "metadata": {},
   "outputs": [],
   "source": []
  },
  {
   "cell_type": "code",
   "execution_count": null,
   "metadata": {},
   "outputs": [],
   "source": [
    "# 예외의 경우.\n",
    "# 1.사람이 더 많은경우\n",
    "# 2. 티셔츠가 더 많은경우.\n",
    "# 3. 사이즈가 하나도 없을 수도 있고.\n",
    "# 4."
   ]
  },
  {
   "cell_type": "code",
   "execution_count": 49,
   "metadata": {},
   "outputs": [],
   "source": [
    "def solution(people, tshirts):\n",
    "    \n",
    "    #옷장에서 몇벌 가져갔는지 count한다.\n",
    "    count = 0 \n",
    "    \n",
    "    # 옷에 사이즈가 여러개 있다면 최대한 많은 사람이 가져가기 하기 위해선 어떻게해야 할까 \n",
    "    # 작은사람과 큰 사람 중 누구에게 우선권을 줘야 하나?\n",
    "    # if 작은 사람에게 우선권을 주면.?\n",
    "    # if 큰 사람에게 우선권을 주면? \n",
    "    \n",
    "    #큰 사람에게 우선권을 주는것이 맞는것 같다. \n",
    "    # 일단 역순으로 배열을 하자.\n",
    "    \n",
    "    people.sort(reverse=True)\n",
    "    tshirts.sort(reverse=True)\n",
    "    check_who_has_shirt = []\n",
    "    \n",
    "    print(people)\n",
    "    print(tshirts)\n",
    "    \n",
    "    \n",
    "    # for문 도는 도중에 pop하면 문제가 생기나보다...끝가지 안돈다. \n",
    "    # check_who_has_shirt 만들어서 티셔츠 가져간 사람 인덱스 체크하자. \n",
    "    \n",
    "    \n",
    "    for i, person in enumerate(people):\n",
    "        for j, shirt in enumerate(tshirts):\n",
    "            print(shirt)\n",
    "            print('@@@@@')\n",
    "            if shirt>= person and person not in check_who_has_shirt:\n",
    "                count +=1\n",
    "                tshirts.pop(j)\n",
    "                check_who_has_shirt.append(i)\n",
    "                break\n",
    "                \n",
    "\n",
    "    \n",
    "\n",
    "\n",
    "    return count"
   ]
  },
  {
   "cell_type": "code",
   "execution_count": 50,
   "metadata": {},
   "outputs": [
    {
     "name": "stdout",
     "output_type": "stream",
     "text": [
      "[3, 2]\n",
      "[3, 2, 1]\n",
      "3\n",
      "@@@@@\n",
      "2\n",
      "@@@@@\n"
     ]
    },
    {
     "data": {
      "text/plain": [
       "2"
      ]
     },
     "execution_count": 50,
     "metadata": {},
     "output_type": "execute_result"
    }
   ],
   "source": [
    "people = [2,3]\n",
    "tshirts = [1,2,3]\n",
    "solution(people,tshirts)"
   ]
  },
  {
   "cell_type": "code",
   "execution_count": 51,
   "metadata": {},
   "outputs": [
    {
     "name": "stdout",
     "output_type": "stream",
     "text": [
      "[3, 2, 1]\n",
      "[1, 1]\n",
      "1\n",
      "@@@@@\n",
      "1\n",
      "@@@@@\n",
      "1\n",
      "@@@@@\n",
      "1\n",
      "@@@@@\n",
      "1\n",
      "@@@@@\n"
     ]
    },
    {
     "data": {
      "text/plain": [
       "1"
      ]
     },
     "execution_count": 51,
     "metadata": {},
     "output_type": "execute_result"
    }
   ],
   "source": [
    "people = [1,2,3]\n",
    "tshirts = [1,1]\n",
    "solution(people,tshirts)"
   ]
  },
  {
   "cell_type": "code",
   "execution_count": null,
   "metadata": {},
   "outputs": [],
   "source": [
    "people = [2,3,4]\n",
    "tshirts = [1,2,3]\n",
    "solution(people,tshirts)"
   ]
  },
  {
   "cell_type": "code",
   "execution_count": null,
   "metadata": {},
   "outputs": [],
   "source": []
  },
  {
   "cell_type": "code",
   "execution_count": null,
   "metadata": {},
   "outputs": [],
   "source": []
  },
  {
   "cell_type": "code",
   "execution_count": 8,
   "metadata": {},
   "outputs": [],
   "source": [
    "tshirts = [1,2,3]"
   ]
  },
  {
   "cell_type": "code",
   "execution_count": 14,
   "metadata": {},
   "outputs": [],
   "source": [
    "people.sort(reverse=True)"
   ]
  },
  {
   "cell_type": "code",
   "execution_count": 15,
   "metadata": {},
   "outputs": [
    {
     "data": {
      "text/plain": [
       "[3, 2, 1]"
      ]
     },
     "execution_count": 15,
     "metadata": {},
     "output_type": "execute_result"
    }
   ],
   "source": [
    "people"
   ]
  },
  {
   "cell_type": "code",
   "execution_count": null,
   "metadata": {},
   "outputs": [],
   "source": [
    "\n"
   ]
  }
 ],
 "metadata": {
  "kernelspec": {
   "display_name": "Python 3",
   "language": "python",
   "name": "python3"
  },
  "language_info": {
   "codemirror_mode": {
    "name": "ipython",
    "version": 3
   },
   "file_extension": ".py",
   "mimetype": "text/x-python",
   "name": "python",
   "nbconvert_exporter": "python",
   "pygments_lexer": "ipython3",
   "version": "3.6.5"
  }
 },
 "nbformat": 4,
 "nbformat_minor": 2
}
